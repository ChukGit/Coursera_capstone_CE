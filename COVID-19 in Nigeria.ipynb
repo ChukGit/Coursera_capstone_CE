{
    "cells": [
        {
            "cell_type": "markdown",
            "metadata": {
                "collapsed": true
            },
            "source": "## COVID-19 in Nigeria: Rural-urban Socio-economic Implications"
        },
        {
            "cell_type": "markdown",
            "metadata": {},
            "source": "This project is part of a Capstone Project conducted to fulfil the requirements for completing the Coursera-IBM Data Science Professional Certificate Progam.\n\nThe COVID-19 pandemic has had varying impacts on countries, and on regions within each Country. Nigeria is no exception. The pandemic - infections, testing, deaths - has exposed some of the pre-existing disparities in both social and economic factors, some of which have accentuated the differences in the severity of the impact from region to region. While some governments are aware of some of these disparities and their effects on the severity of the pandemic, many governments are met with the current challenge of dealing with response to the virus in real-time, with little effort or resources to spare in a more wholistic view of the challenge for a more coordinated response. Furthermore, a better understanding of this wholistic view vis-a-vis socio-economic indicators, will help the Nigerian government better prepare for whatever future pandemics or epidemics may occur.\n\nPopulation density, access to healthcare facilities, and the economic wherewhital to ride such a disruptive event, are some of the factors that will be explored in this project.  Data will be accessed from the Nigeria Bureau of Statistics. \n\nThe data will comprise:\n\na. Population Density in Nigeria by State\n\nb. Consumer Price Index by State\n\nc. Unemployment Data by State\n\nd. COVID-19 latest Data by State\n\nFoursquare location data will be utilized to assess availability of healthcare services in specific cities and neighbourhoods. The information from Foursquare will be juxtaposed with the COVID-19 data and other data sets to assess its effects on pandemic severity. Where data is sparse via Foursquare location data, other location data sources will be utilized.\n\nUltimately, the government of Nigeria, both at the National and State level, should find this assessment useful for planning and implementation, and for better preparedness for future public health crises that may occur."
        },
        {
            "cell_type": "code",
            "execution_count": null,
            "metadata": {},
            "outputs": [],
            "source": ""
        },
        {
            "cell_type": "code",
            "execution_count": null,
            "metadata": {},
            "outputs": [],
            "source": ""
        },
        {
            "cell_type": "code",
            "execution_count": null,
            "metadata": {},
            "outputs": [],
            "source": ""
        }
    ],
    "metadata": {
        "kernelspec": {
            "display_name": "Python 3.7",
            "language": "python",
            "name": "python3"
        },
        "language_info": {
            "codemirror_mode": {
                "name": "ipython",
                "version": 3
            },
            "file_extension": ".py",
            "mimetype": "text/x-python",
            "name": "python",
            "nbconvert_exporter": "python",
            "pygments_lexer": "ipython3",
            "version": "3.7.9"
        }
    },
    "nbformat": 4,
    "nbformat_minor": 1
}